{
 "cells": [
  {
   "cell_type": "markdown",
   "metadata": {},
   "source": [
    "# Extensions to Linear Models - Lab"
   ]
  },
  {
   "cell_type": "markdown",
   "metadata": {},
   "source": [
    "## Introduction\n",
    "\n",
    "In this lab, you'll practice many concepts you have learned so far, from adding interactions and polynomials to your model to AIC and BIC!"
   ]
  },
  {
   "cell_type": "markdown",
   "metadata": {},
   "source": [
    "## Summary\n",
    "\n",
    "You will be able to:\n",
    "- Build a linear regression model with interactions and polynomial features \n",
    "- Use AIC and BIC to select the best value for the regularization parameter \n"
   ]
  },
  {
   "cell_type": "markdown",
   "metadata": {},
   "source": [
    "## Let's get started!"
   ]
  },
  {
   "cell_type": "markdown",
   "metadata": {},
   "source": [
    "Import all the necessary packages."
   ]
  },
  {
   "cell_type": "code",
   "execution_count": 14,
   "metadata": {
    "ExecuteTime": {
     "end_time": "2020-09-14T14:21:26.424237Z",
     "start_time": "2020-09-14T14:21:26.419338Z"
    }
   },
   "outputs": [],
   "source": [
    "import pandas as pd\n",
    "import numpy as np\n",
    "import matplotlib.pyplot as plt\n",
    "import warnings\n",
    "warnings.filterwarnings('ignore')\n",
    "from itertools import combinations\n",
    "\n",
    "from sklearn.linear_model import LinearRegression\n",
    "from sklearn.model_selection import cross_val_score\n",
    "from sklearn.model_selection import KFold\n",
    "from sklearn.preprocessing import scale\n",
    "from sklearn.preprocessing import PolynomialFeatures"
   ]
  },
  {
   "cell_type": "markdown",
   "metadata": {},
   "source": [
    "Load the data."
   ]
  },
  {
   "cell_type": "code",
   "execution_count": 2,
   "metadata": {
    "ExecuteTime": {
     "end_time": "2020-09-14T14:13:21.366980Z",
     "start_time": "2020-09-14T14:13:21.302631Z"
    }
   },
   "outputs": [],
   "source": [
    "df = pd.read_csv(\"ames.csv\")"
   ]
  },
  {
   "cell_type": "code",
   "execution_count": 3,
   "metadata": {
    "ExecuteTime": {
     "end_time": "2020-09-14T14:13:24.736751Z",
     "start_time": "2020-09-14T14:13:24.729549Z"
    }
   },
   "outputs": [],
   "source": [
    "df = df[['LotArea', 'OverallQual', 'OverallCond', 'TotalBsmtSF',\n",
    "         '1stFlrSF', '2ndFlrSF', 'GrLivArea', 'TotRmsAbvGrd',\n",
    "         'GarageArea', 'Fireplaces', 'SalePrice']]"
   ]
  },
  {
   "cell_type": "markdown",
   "metadata": {},
   "source": [
    "## Look at a baseline housing data model"
   ]
  },
  {
   "cell_type": "markdown",
   "metadata": {},
   "source": [
    "Above, we imported the Ames housing data and grabbed a subset of the data to use in this analysis.\n",
    "\n",
    "Next steps:\n",
    "\n",
    "- Split the data into target (`y`) and predictors (`X`) -- ensure these both are DataFrames \n",
    "- Scale all the predictors using `scale`. Convert these scaled features into a DataFrame \n",
    "- Build at a baseline model using *scaled variables* as predictors. Use 5-fold cross-validation (set `random_state` to 1) and use the $R^2$ score to evaluate the model "
   ]
  },
  {
   "cell_type": "code",
   "execution_count": 5,
   "metadata": {
    "ExecuteTime": {
     "end_time": "2020-09-14T14:14:13.553413Z",
     "start_time": "2020-09-14T14:14:13.546339Z"
    }
   },
   "outputs": [
    {
     "name": "stdout",
     "output_type": "stream",
     "text": [
      "<class 'pandas.core.frame.DataFrame'> <class 'pandas.core.frame.DataFrame'>\n"
     ]
    }
   ],
   "source": [
    "# Your code here\n",
    "y = df[['SalePrice']]\n",
    "X = df.drop(columns=['SalePrice'])\n",
    "print(type(y), type(X))"
   ]
  },
  {
   "cell_type": "code",
   "execution_count": 77,
   "metadata": {
    "ExecuteTime": {
     "end_time": "2020-09-14T18:43:24.661305Z",
     "start_time": "2020-09-14T18:43:24.655384Z"
    }
   },
   "outputs": [],
   "source": [
    "\n",
    "X_scaled = pd.DataFrame(scale(X), columns=X.columns)\n"
   ]
  },
  {
   "cell_type": "code",
   "execution_count": 78,
   "metadata": {
    "ExecuteTime": {
     "end_time": "2020-09-14T18:43:27.588264Z",
     "start_time": "2020-09-14T18:43:27.543422Z"
    }
   },
   "outputs": [
    {
     "data": {
      "text/plain": [
       "0.7524751004088887"
      ]
     },
     "execution_count": 78,
     "metadata": {},
     "output_type": "execute_result"
    }
   ],
   "source": [
    "regression = LinearRegression()\n",
    "\n",
    "crossvalidation = KFold(n_splits=5, shuffle=True, random_state=1)\n",
    "baselines = (cross_val_score(regression, X_scaled, y, scoring='r2', cv=crossvalidation))\n",
    "np.mean(baselines)"
   ]
  },
  {
   "cell_type": "markdown",
   "metadata": {},
   "source": [
    "## Include interactions\n",
    "\n",
    "Look at all the possible combinations of variables for interactions by adding interactions one by one to the baseline model. Next, evaluate that model using 5-fold cross-validation and store the $R^2$ to compare it with the baseline model.\n",
    "\n",
    "Print the 7 most important interactions."
   ]
  },
  {
   "cell_type": "code",
   "execution_count": 89,
   "metadata": {
    "ExecuteTime": {
     "end_time": "2020-09-14T18:44:13.139519Z",
     "start_time": "2020-09-14T18:44:11.883152Z"
    }
   },
   "outputs": [],
   "source": [
    "# Your code here\n",
    "combs = list(combinations(X.columns, 2))\n",
    "interactions = []\n",
    "data = X_scaled.copy()\n",
    "for comb in combs:\n",
    "    data['interaction'] = data[comb[0]]*data[comb[1]]\n",
    "    score = np.mean(cross_val_score(regression, data, y, scoring='r2', cv=crossvalidation))\n",
    "    if score > baseline: \n",
    "        interactions.append((comb[0], comb[1], round(score, 3)))\n"
   ]
  },
  {
   "cell_type": "code",
   "execution_count": 90,
   "metadata": {
    "ExecuteTime": {
     "end_time": "2020-09-14T18:44:13.507054Z",
     "start_time": "2020-09-14T18:44:13.499776Z"
    }
   },
   "outputs": [
    {
     "data": {
      "text/plain": [
       "[('OverallQual', 'TotRmsAbvGrd', 0.77),\n",
       " ('OverallQual', 'GarageArea', 0.764),\n",
       " ('OverallQual', '2ndFlrSF', 0.758),\n",
       " ('2ndFlrSF', 'GrLivArea', 0.756),\n",
       " ('2ndFlrSF', 'TotRmsAbvGrd', 0.756),\n",
       " ('OverallQual', 'Fireplaces', 0.754),\n",
       " ('OverallCond', 'TotalBsmtSF', 0.754)]"
      ]
     },
     "execution_count": 90,
     "metadata": {},
     "output_type": "execute_result"
    }
   ],
   "source": [
    "interaction_ls = sorted(interactions, key=lambda x: x[2], reverse=True)[:7]\n",
    "interaction_ls"
   ]
  },
  {
   "cell_type": "markdown",
   "metadata": {},
   "source": [
    "Write code to include the 7 most important interactions in your data set by adding 7 columns. Name the columns \"var1_var2\", where var1 and var2 are the two variables in the interaction."
   ]
  },
  {
   "cell_type": "code",
   "execution_count": 91,
   "metadata": {
    "ExecuteTime": {
     "end_time": "2020-09-14T18:44:13.819332Z",
     "start_time": "2020-09-14T18:44:13.796971Z"
    }
   },
   "outputs": [
    {
     "data": {
      "text/html": [
       "<div>\n",
       "<style scoped>\n",
       "    .dataframe tbody tr th:only-of-type {\n",
       "        vertical-align: middle;\n",
       "    }\n",
       "\n",
       "    .dataframe tbody tr th {\n",
       "        vertical-align: top;\n",
       "    }\n",
       "\n",
       "    .dataframe thead th {\n",
       "        text-align: right;\n",
       "    }\n",
       "</style>\n",
       "<table border=\"1\" class=\"dataframe\">\n",
       "  <thead>\n",
       "    <tr style=\"text-align: right;\">\n",
       "      <th></th>\n",
       "      <th>LotArea</th>\n",
       "      <th>OverallQual</th>\n",
       "      <th>OverallCond</th>\n",
       "      <th>TotalBsmtSF</th>\n",
       "      <th>1stFlrSF</th>\n",
       "      <th>2ndFlrSF</th>\n",
       "      <th>GrLivArea</th>\n",
       "      <th>TotRmsAbvGrd</th>\n",
       "      <th>GarageArea</th>\n",
       "      <th>Fireplaces</th>\n",
       "    </tr>\n",
       "  </thead>\n",
       "  <tbody>\n",
       "    <tr>\n",
       "      <th>0</th>\n",
       "      <td>-0.207142</td>\n",
       "      <td>0.651479</td>\n",
       "      <td>-0.517200</td>\n",
       "      <td>-0.459303</td>\n",
       "      <td>-0.793434</td>\n",
       "      <td>1.161852</td>\n",
       "      <td>0.370333</td>\n",
       "      <td>0.912210</td>\n",
       "      <td>0.351000</td>\n",
       "      <td>-0.951226</td>\n",
       "    </tr>\n",
       "    <tr>\n",
       "      <th>1</th>\n",
       "      <td>-0.091886</td>\n",
       "      <td>-0.071836</td>\n",
       "      <td>2.179628</td>\n",
       "      <td>0.466465</td>\n",
       "      <td>0.257140</td>\n",
       "      <td>-0.795163</td>\n",
       "      <td>-0.482512</td>\n",
       "      <td>-0.318683</td>\n",
       "      <td>-0.060731</td>\n",
       "      <td>0.600495</td>\n",
       "    </tr>\n",
       "    <tr>\n",
       "      <th>2</th>\n",
       "      <td>0.073480</td>\n",
       "      <td>0.651479</td>\n",
       "      <td>-0.517200</td>\n",
       "      <td>-0.313369</td>\n",
       "      <td>-0.627826</td>\n",
       "      <td>1.189351</td>\n",
       "      <td>0.515013</td>\n",
       "      <td>-0.318683</td>\n",
       "      <td>0.631726</td>\n",
       "      <td>0.600495</td>\n",
       "    </tr>\n",
       "    <tr>\n",
       "      <th>3</th>\n",
       "      <td>-0.096897</td>\n",
       "      <td>0.651479</td>\n",
       "      <td>-0.517200</td>\n",
       "      <td>-0.687324</td>\n",
       "      <td>-0.521734</td>\n",
       "      <td>0.937276</td>\n",
       "      <td>0.383659</td>\n",
       "      <td>0.296763</td>\n",
       "      <td>0.790804</td>\n",
       "      <td>0.600495</td>\n",
       "    </tr>\n",
       "    <tr>\n",
       "      <th>4</th>\n",
       "      <td>0.375148</td>\n",
       "      <td>1.374795</td>\n",
       "      <td>-0.517200</td>\n",
       "      <td>0.199680</td>\n",
       "      <td>-0.045611</td>\n",
       "      <td>1.617877</td>\n",
       "      <td>1.299326</td>\n",
       "      <td>1.527656</td>\n",
       "      <td>1.698485</td>\n",
       "      <td>0.600495</td>\n",
       "    </tr>\n",
       "    <tr>\n",
       "      <th>...</th>\n",
       "      <td>...</td>\n",
       "      <td>...</td>\n",
       "      <td>...</td>\n",
       "      <td>...</td>\n",
       "      <td>...</td>\n",
       "      <td>...</td>\n",
       "      <td>...</td>\n",
       "      <td>...</td>\n",
       "      <td>...</td>\n",
       "      <td>...</td>\n",
       "    </tr>\n",
       "    <tr>\n",
       "      <th>1455</th>\n",
       "      <td>-0.260560</td>\n",
       "      <td>-0.071836</td>\n",
       "      <td>-0.517200</td>\n",
       "      <td>-0.238122</td>\n",
       "      <td>-0.542435</td>\n",
       "      <td>0.795198</td>\n",
       "      <td>0.250402</td>\n",
       "      <td>0.296763</td>\n",
       "      <td>-0.060731</td>\n",
       "      <td>0.600495</td>\n",
       "    </tr>\n",
       "    <tr>\n",
       "      <th>1456</th>\n",
       "      <td>0.266407</td>\n",
       "      <td>-0.071836</td>\n",
       "      <td>0.381743</td>\n",
       "      <td>1.104925</td>\n",
       "      <td>2.355701</td>\n",
       "      <td>-0.795163</td>\n",
       "      <td>1.061367</td>\n",
       "      <td>0.296763</td>\n",
       "      <td>0.126420</td>\n",
       "      <td>2.152216</td>\n",
       "    </tr>\n",
       "    <tr>\n",
       "      <th>1457</th>\n",
       "      <td>-0.147810</td>\n",
       "      <td>0.651479</td>\n",
       "      <td>3.078570</td>\n",
       "      <td>0.215641</td>\n",
       "      <td>0.065656</td>\n",
       "      <td>1.844744</td>\n",
       "      <td>1.569647</td>\n",
       "      <td>1.527656</td>\n",
       "      <td>-1.033914</td>\n",
       "      <td>2.152216</td>\n",
       "    </tr>\n",
       "    <tr>\n",
       "      <th>1458</th>\n",
       "      <td>-0.080160</td>\n",
       "      <td>-0.795151</td>\n",
       "      <td>0.381743</td>\n",
       "      <td>0.046905</td>\n",
       "      <td>-0.218982</td>\n",
       "      <td>-0.795163</td>\n",
       "      <td>-0.832788</td>\n",
       "      <td>-0.934130</td>\n",
       "      <td>-1.090059</td>\n",
       "      <td>-0.951226</td>\n",
       "    </tr>\n",
       "    <tr>\n",
       "      <th>1459</th>\n",
       "      <td>-0.058112</td>\n",
       "      <td>-0.795151</td>\n",
       "      <td>0.381743</td>\n",
       "      <td>0.452784</td>\n",
       "      <td>0.241615</td>\n",
       "      <td>-0.795163</td>\n",
       "      <td>-0.493934</td>\n",
       "      <td>-0.318683</td>\n",
       "      <td>-0.921624</td>\n",
       "      <td>-0.951226</td>\n",
       "    </tr>\n",
       "  </tbody>\n",
       "</table>\n",
       "<p>1460 rows × 10 columns</p>\n",
       "</div>"
      ],
      "text/plain": [
       "       LotArea  OverallQual  OverallCond  TotalBsmtSF  1stFlrSF  2ndFlrSF  \\\n",
       "0    -0.207142     0.651479    -0.517200    -0.459303 -0.793434  1.161852   \n",
       "1    -0.091886    -0.071836     2.179628     0.466465  0.257140 -0.795163   \n",
       "2     0.073480     0.651479    -0.517200    -0.313369 -0.627826  1.189351   \n",
       "3    -0.096897     0.651479    -0.517200    -0.687324 -0.521734  0.937276   \n",
       "4     0.375148     1.374795    -0.517200     0.199680 -0.045611  1.617877   \n",
       "...        ...          ...          ...          ...       ...       ...   \n",
       "1455 -0.260560    -0.071836    -0.517200    -0.238122 -0.542435  0.795198   \n",
       "1456  0.266407    -0.071836     0.381743     1.104925  2.355701 -0.795163   \n",
       "1457 -0.147810     0.651479     3.078570     0.215641  0.065656  1.844744   \n",
       "1458 -0.080160    -0.795151     0.381743     0.046905 -0.218982 -0.795163   \n",
       "1459 -0.058112    -0.795151     0.381743     0.452784  0.241615 -0.795163   \n",
       "\n",
       "      GrLivArea  TotRmsAbvGrd  GarageArea  Fireplaces  \n",
       "0      0.370333      0.912210    0.351000   -0.951226  \n",
       "1     -0.482512     -0.318683   -0.060731    0.600495  \n",
       "2      0.515013     -0.318683    0.631726    0.600495  \n",
       "3      0.383659      0.296763    0.790804    0.600495  \n",
       "4      1.299326      1.527656    1.698485    0.600495  \n",
       "...         ...           ...         ...         ...  \n",
       "1455   0.250402      0.296763   -0.060731    0.600495  \n",
       "1456   1.061367      0.296763    0.126420    2.152216  \n",
       "1457   1.569647      1.527656   -1.033914    2.152216  \n",
       "1458  -0.832788     -0.934130   -1.090059   -0.951226  \n",
       "1459  -0.493934     -0.318683   -0.921624   -0.951226  \n",
       "\n",
       "[1460 rows x 10 columns]"
      ]
     },
     "metadata": {},
     "output_type": "display_data"
    }
   ],
   "source": [
    "# Your code here\n",
    "df_inter = X_scaled.copy()\n",
    "display(df_inter)"
   ]
  },
  {
   "cell_type": "code",
   "execution_count": 92,
   "metadata": {
    "ExecuteTime": {
     "end_time": "2020-09-14T18:44:16.247596Z",
     "start_time": "2020-09-14T18:44:16.213732Z"
    }
   },
   "outputs": [
    {
     "data": {
      "text/html": [
       "<div>\n",
       "<style scoped>\n",
       "    .dataframe tbody tr th:only-of-type {\n",
       "        vertical-align: middle;\n",
       "    }\n",
       "\n",
       "    .dataframe tbody tr th {\n",
       "        vertical-align: top;\n",
       "    }\n",
       "\n",
       "    .dataframe thead th {\n",
       "        text-align: right;\n",
       "    }\n",
       "</style>\n",
       "<table border=\"1\" class=\"dataframe\">\n",
       "  <thead>\n",
       "    <tr style=\"text-align: right;\">\n",
       "      <th></th>\n",
       "      <th>LotArea</th>\n",
       "      <th>OverallQual</th>\n",
       "      <th>OverallCond</th>\n",
       "      <th>TotalBsmtSF</th>\n",
       "      <th>1stFlrSF</th>\n",
       "      <th>2ndFlrSF</th>\n",
       "      <th>GrLivArea</th>\n",
       "      <th>TotRmsAbvGrd</th>\n",
       "      <th>GarageArea</th>\n",
       "      <th>Fireplaces</th>\n",
       "      <th>OverallQual_TotRmsAbvGrd</th>\n",
       "      <th>OverallQual_GarageArea</th>\n",
       "      <th>OverallQual_2ndFlrSF</th>\n",
       "      <th>2ndFlrSF_GrLivArea</th>\n",
       "      <th>2ndFlrSF_TotRmsAbvGrd</th>\n",
       "      <th>OverallQual_Fireplaces</th>\n",
       "      <th>OverallCond_TotalBsmtSF</th>\n",
       "    </tr>\n",
       "  </thead>\n",
       "  <tbody>\n",
       "    <tr>\n",
       "      <th>0</th>\n",
       "      <td>-0.207142</td>\n",
       "      <td>0.651479</td>\n",
       "      <td>-0.517200</td>\n",
       "      <td>-0.459303</td>\n",
       "      <td>-0.793434</td>\n",
       "      <td>1.161852</td>\n",
       "      <td>0.370333</td>\n",
       "      <td>0.912210</td>\n",
       "      <td>0.351000</td>\n",
       "      <td>-0.951226</td>\n",
       "      <td>0.594286</td>\n",
       "      <td>0.228669</td>\n",
       "      <td>0.756922</td>\n",
       "      <td>0.430272</td>\n",
       "      <td>1.059852</td>\n",
       "      <td>-0.619704</td>\n",
       "      <td>0.237551</td>\n",
       "    </tr>\n",
       "    <tr>\n",
       "      <th>1</th>\n",
       "      <td>-0.091886</td>\n",
       "      <td>-0.071836</td>\n",
       "      <td>2.179628</td>\n",
       "      <td>0.466465</td>\n",
       "      <td>0.257140</td>\n",
       "      <td>-0.795163</td>\n",
       "      <td>-0.482512</td>\n",
       "      <td>-0.318683</td>\n",
       "      <td>-0.060731</td>\n",
       "      <td>0.600495</td>\n",
       "      <td>0.022893</td>\n",
       "      <td>0.004363</td>\n",
       "      <td>0.057121</td>\n",
       "      <td>0.383676</td>\n",
       "      <td>0.253405</td>\n",
       "      <td>-0.043137</td>\n",
       "      <td>1.016720</td>\n",
       "    </tr>\n",
       "    <tr>\n",
       "      <th>2</th>\n",
       "      <td>0.073480</td>\n",
       "      <td>0.651479</td>\n",
       "      <td>-0.517200</td>\n",
       "      <td>-0.313369</td>\n",
       "      <td>-0.627826</td>\n",
       "      <td>1.189351</td>\n",
       "      <td>0.515013</td>\n",
       "      <td>-0.318683</td>\n",
       "      <td>0.631726</td>\n",
       "      <td>0.600495</td>\n",
       "      <td>-0.207616</td>\n",
       "      <td>0.411557</td>\n",
       "      <td>0.774837</td>\n",
       "      <td>0.612531</td>\n",
       "      <td>-0.379026</td>\n",
       "      <td>0.391210</td>\n",
       "      <td>0.162074</td>\n",
       "    </tr>\n",
       "    <tr>\n",
       "      <th>3</th>\n",
       "      <td>-0.096897</td>\n",
       "      <td>0.651479</td>\n",
       "      <td>-0.517200</td>\n",
       "      <td>-0.687324</td>\n",
       "      <td>-0.521734</td>\n",
       "      <td>0.937276</td>\n",
       "      <td>0.383659</td>\n",
       "      <td>0.296763</td>\n",
       "      <td>0.790804</td>\n",
       "      <td>0.600495</td>\n",
       "      <td>0.193335</td>\n",
       "      <td>0.515193</td>\n",
       "      <td>0.610616</td>\n",
       "      <td>0.359595</td>\n",
       "      <td>0.278149</td>\n",
       "      <td>0.391210</td>\n",
       "      <td>0.355484</td>\n",
       "    </tr>\n",
       "    <tr>\n",
       "      <th>4</th>\n",
       "      <td>0.375148</td>\n",
       "      <td>1.374795</td>\n",
       "      <td>-0.517200</td>\n",
       "      <td>0.199680</td>\n",
       "      <td>-0.045611</td>\n",
       "      <td>1.617877</td>\n",
       "      <td>1.299326</td>\n",
       "      <td>1.527656</td>\n",
       "      <td>1.698485</td>\n",
       "      <td>0.600495</td>\n",
       "      <td>2.100214</td>\n",
       "      <td>2.335068</td>\n",
       "      <td>2.224249</td>\n",
       "      <td>2.102150</td>\n",
       "      <td>2.471560</td>\n",
       "      <td>0.825557</td>\n",
       "      <td>-0.103274</td>\n",
       "    </tr>\n",
       "    <tr>\n",
       "      <th>...</th>\n",
       "      <td>...</td>\n",
       "      <td>...</td>\n",
       "      <td>...</td>\n",
       "      <td>...</td>\n",
       "      <td>...</td>\n",
       "      <td>...</td>\n",
       "      <td>...</td>\n",
       "      <td>...</td>\n",
       "      <td>...</td>\n",
       "      <td>...</td>\n",
       "      <td>...</td>\n",
       "      <td>...</td>\n",
       "      <td>...</td>\n",
       "      <td>...</td>\n",
       "      <td>...</td>\n",
       "      <td>...</td>\n",
       "      <td>...</td>\n",
       "    </tr>\n",
       "    <tr>\n",
       "      <th>1455</th>\n",
       "      <td>-0.260560</td>\n",
       "      <td>-0.071836</td>\n",
       "      <td>-0.517200</td>\n",
       "      <td>-0.238122</td>\n",
       "      <td>-0.542435</td>\n",
       "      <td>0.795198</td>\n",
       "      <td>0.250402</td>\n",
       "      <td>0.296763</td>\n",
       "      <td>-0.060731</td>\n",
       "      <td>0.600495</td>\n",
       "      <td>-0.021318</td>\n",
       "      <td>0.004363</td>\n",
       "      <td>-0.057124</td>\n",
       "      <td>0.199119</td>\n",
       "      <td>0.235985</td>\n",
       "      <td>-0.043137</td>\n",
       "      <td>0.123156</td>\n",
       "    </tr>\n",
       "    <tr>\n",
       "      <th>1456</th>\n",
       "      <td>0.266407</td>\n",
       "      <td>-0.071836</td>\n",
       "      <td>0.381743</td>\n",
       "      <td>1.104925</td>\n",
       "      <td>2.355701</td>\n",
       "      <td>-0.795163</td>\n",
       "      <td>1.061367</td>\n",
       "      <td>0.296763</td>\n",
       "      <td>0.126420</td>\n",
       "      <td>2.152216</td>\n",
       "      <td>-0.021318</td>\n",
       "      <td>-0.009081</td>\n",
       "      <td>0.057121</td>\n",
       "      <td>-0.843960</td>\n",
       "      <td>-0.235975</td>\n",
       "      <td>-0.154607</td>\n",
       "      <td>0.421797</td>\n",
       "    </tr>\n",
       "    <tr>\n",
       "      <th>1457</th>\n",
       "      <td>-0.147810</td>\n",
       "      <td>0.651479</td>\n",
       "      <td>3.078570</td>\n",
       "      <td>0.215641</td>\n",
       "      <td>0.065656</td>\n",
       "      <td>1.844744</td>\n",
       "      <td>1.569647</td>\n",
       "      <td>1.527656</td>\n",
       "      <td>-1.033914</td>\n",
       "      <td>2.152216</td>\n",
       "      <td>0.995236</td>\n",
       "      <td>-0.673574</td>\n",
       "      <td>1.201813</td>\n",
       "      <td>2.895598</td>\n",
       "      <td>2.818135</td>\n",
       "      <td>1.402124</td>\n",
       "      <td>0.663867</td>\n",
       "    </tr>\n",
       "    <tr>\n",
       "      <th>1458</th>\n",
       "      <td>-0.080160</td>\n",
       "      <td>-0.795151</td>\n",
       "      <td>0.381743</td>\n",
       "      <td>0.046905</td>\n",
       "      <td>-0.218982</td>\n",
       "      <td>-0.795163</td>\n",
       "      <td>-0.832788</td>\n",
       "      <td>-0.934130</td>\n",
       "      <td>-1.090059</td>\n",
       "      <td>-0.951226</td>\n",
       "      <td>0.742775</td>\n",
       "      <td>0.866762</td>\n",
       "      <td>0.632275</td>\n",
       "      <td>0.662202</td>\n",
       "      <td>0.742786</td>\n",
       "      <td>0.756369</td>\n",
       "      <td>0.017906</td>\n",
       "    </tr>\n",
       "    <tr>\n",
       "      <th>1459</th>\n",
       "      <td>-0.058112</td>\n",
       "      <td>-0.795151</td>\n",
       "      <td>0.381743</td>\n",
       "      <td>0.452784</td>\n",
       "      <td>0.241615</td>\n",
       "      <td>-0.795163</td>\n",
       "      <td>-0.493934</td>\n",
       "      <td>-0.318683</td>\n",
       "      <td>-0.921624</td>\n",
       "      <td>-0.951226</td>\n",
       "      <td>0.253401</td>\n",
       "      <td>0.732831</td>\n",
       "      <td>0.632275</td>\n",
       "      <td>0.392758</td>\n",
       "      <td>0.253405</td>\n",
       "      <td>0.756369</td>\n",
       "      <td>0.172847</td>\n",
       "    </tr>\n",
       "  </tbody>\n",
       "</table>\n",
       "<p>1460 rows × 17 columns</p>\n",
       "</div>"
      ],
      "text/plain": [
       "       LotArea  OverallQual  OverallCond  TotalBsmtSF  1stFlrSF  2ndFlrSF  \\\n",
       "0    -0.207142     0.651479    -0.517200    -0.459303 -0.793434  1.161852   \n",
       "1    -0.091886    -0.071836     2.179628     0.466465  0.257140 -0.795163   \n",
       "2     0.073480     0.651479    -0.517200    -0.313369 -0.627826  1.189351   \n",
       "3    -0.096897     0.651479    -0.517200    -0.687324 -0.521734  0.937276   \n",
       "4     0.375148     1.374795    -0.517200     0.199680 -0.045611  1.617877   \n",
       "...        ...          ...          ...          ...       ...       ...   \n",
       "1455 -0.260560    -0.071836    -0.517200    -0.238122 -0.542435  0.795198   \n",
       "1456  0.266407    -0.071836     0.381743     1.104925  2.355701 -0.795163   \n",
       "1457 -0.147810     0.651479     3.078570     0.215641  0.065656  1.844744   \n",
       "1458 -0.080160    -0.795151     0.381743     0.046905 -0.218982 -0.795163   \n",
       "1459 -0.058112    -0.795151     0.381743     0.452784  0.241615 -0.795163   \n",
       "\n",
       "      GrLivArea  TotRmsAbvGrd  GarageArea  Fireplaces  \\\n",
       "0      0.370333      0.912210    0.351000   -0.951226   \n",
       "1     -0.482512     -0.318683   -0.060731    0.600495   \n",
       "2      0.515013     -0.318683    0.631726    0.600495   \n",
       "3      0.383659      0.296763    0.790804    0.600495   \n",
       "4      1.299326      1.527656    1.698485    0.600495   \n",
       "...         ...           ...         ...         ...   \n",
       "1455   0.250402      0.296763   -0.060731    0.600495   \n",
       "1456   1.061367      0.296763    0.126420    2.152216   \n",
       "1457   1.569647      1.527656   -1.033914    2.152216   \n",
       "1458  -0.832788     -0.934130   -1.090059   -0.951226   \n",
       "1459  -0.493934     -0.318683   -0.921624   -0.951226   \n",
       "\n",
       "      OverallQual_TotRmsAbvGrd  OverallQual_GarageArea  OverallQual_2ndFlrSF  \\\n",
       "0                     0.594286                0.228669              0.756922   \n",
       "1                     0.022893                0.004363              0.057121   \n",
       "2                    -0.207616                0.411557              0.774837   \n",
       "3                     0.193335                0.515193              0.610616   \n",
       "4                     2.100214                2.335068              2.224249   \n",
       "...                        ...                     ...                   ...   \n",
       "1455                 -0.021318                0.004363             -0.057124   \n",
       "1456                 -0.021318               -0.009081              0.057121   \n",
       "1457                  0.995236               -0.673574              1.201813   \n",
       "1458                  0.742775                0.866762              0.632275   \n",
       "1459                  0.253401                0.732831              0.632275   \n",
       "\n",
       "      2ndFlrSF_GrLivArea  2ndFlrSF_TotRmsAbvGrd  OverallQual_Fireplaces  \\\n",
       "0               0.430272               1.059852               -0.619704   \n",
       "1               0.383676               0.253405               -0.043137   \n",
       "2               0.612531              -0.379026                0.391210   \n",
       "3               0.359595               0.278149                0.391210   \n",
       "4               2.102150               2.471560                0.825557   \n",
       "...                  ...                    ...                     ...   \n",
       "1455            0.199119               0.235985               -0.043137   \n",
       "1456           -0.843960              -0.235975               -0.154607   \n",
       "1457            2.895598               2.818135                1.402124   \n",
       "1458            0.662202               0.742786                0.756369   \n",
       "1459            0.392758               0.253405                0.756369   \n",
       "\n",
       "      OverallCond_TotalBsmtSF  \n",
       "0                    0.237551  \n",
       "1                    1.016720  \n",
       "2                    0.162074  \n",
       "3                    0.355484  \n",
       "4                   -0.103274  \n",
       "...                       ...  \n",
       "1455                 0.123156  \n",
       "1456                 0.421797  \n",
       "1457                 0.663867  \n",
       "1458                 0.017906  \n",
       "1459                 0.172847  \n",
       "\n",
       "[1460 rows x 17 columns]"
      ]
     },
     "execution_count": 92,
     "metadata": {},
     "output_type": "execute_result"
    }
   ],
   "source": [
    "for inter in interaction_ls:\n",
    "    df_inter[f'{inter[0]}_{inter[1]}'] = X_scaled[inter[0]]*X_scaled[inter[1]]\n",
    "df_inter"
   ]
  },
  {
   "cell_type": "markdown",
   "metadata": {},
   "source": [
    "## Include polynomials"
   ]
  },
  {
   "cell_type": "markdown",
   "metadata": {},
   "source": [
    "Try polynomials of degrees 2, 3, and 4 for each variable, in a similar way you did for interactions (by looking at your baseline model and seeing how $R^2$ increases). Do understand that when going for a polynomial of 4, the particular column is raised to the power of 2 and 3 as well in other terms. We only want to include \"pure\" polynomials, so make sure no interactions are included. We want the result to return a list that contain tuples of the form:\n",
    "\n",
    "`(var_name, degree, R2)`, so eg. `('OverallQual', 2, 0.781)` "
   ]
  },
  {
   "cell_type": "code",
   "execution_count": 83,
   "metadata": {
    "ExecuteTime": {
     "end_time": "2020-09-14T18:43:47.142085Z",
     "start_time": "2020-09-14T18:43:46.218909Z"
    }
   },
   "outputs": [
    {
     "data": {
      "text/plain": [
       "[('OverallQual', 2, 0.7806086732834392),\n",
       " ('OverallQual', 3, 0.7790396103063509),\n",
       " ('OverallQual', 4, 0.7791919536787759),\n",
       " ('OverallCond', 4, 0.752615729949287),\n",
       " ('2ndFlrSF', 2, 0.7711185948683359),\n",
       " ('2ndFlrSF', 3, 0.7753364270541657),\n",
       " ('2ndFlrSF', 4, 0.7712816910646524),\n",
       " ('GrLivArea', 3, 0.7880091677677005),\n",
       " ('GrLivArea', 4, 0.806762839852641),\n",
       " ('TotRmsAbvGrd', 3, 0.7525382764131422),\n",
       " ('GarageArea', 3, 0.7575678991747072),\n",
       " ('GarageArea', 4, 0.7673360073531142)]"
      ]
     },
     "execution_count": 83,
     "metadata": {},
     "output_type": "execute_result"
    }
   ],
   "source": [
    "# Your code here\n",
    "polys = []\n",
    "# data = X_scaled.copy()\n",
    "powers = [2, 3, 4]\n",
    "\n",
    "for var in X_scaled.columns:\n",
    "    for power in powers:\n",
    "        data = X_scaled.copy()\n",
    "        poly = PolynomialFeatures(power, include_bias=False)\n",
    "        X_transformed = poly.fit_transform(X[[var]])\n",
    "        data = pd.concat([data.drop(var, axis=1), pd.DataFrame(X_transformed)], axis=1)\n",
    "        score = np.mean(cross_val_score(regression, data, y, scoring='r2', cv=crossvalidation))\n",
    "        \n",
    "        if score > baseline:\n",
    "            polys.append((var, power, score))\n",
    "polys"
   ]
  },
  {
   "cell_type": "code",
   "execution_count": 84,
   "metadata": {
    "ExecuteTime": {
     "end_time": "2020-09-14T18:43:47.459761Z",
     "start_time": "2020-09-14T18:43:47.434189Z"
    }
   },
   "outputs": [
    {
     "data": {
      "text/html": [
       "<div>\n",
       "<style scoped>\n",
       "    .dataframe tbody tr th:only-of-type {\n",
       "        vertical-align: middle;\n",
       "    }\n",
       "\n",
       "    .dataframe tbody tr th {\n",
       "        vertical-align: top;\n",
       "    }\n",
       "\n",
       "    .dataframe thead th {\n",
       "        text-align: right;\n",
       "    }\n",
       "</style>\n",
       "<table border=\"1\" class=\"dataframe\">\n",
       "  <thead>\n",
       "    <tr style=\"text-align: right;\">\n",
       "      <th></th>\n",
       "      <th>OverallQual</th>\n",
       "    </tr>\n",
       "  </thead>\n",
       "  <tbody>\n",
       "    <tr>\n",
       "      <th>0</th>\n",
       "      <td>7</td>\n",
       "    </tr>\n",
       "    <tr>\n",
       "      <th>1</th>\n",
       "      <td>6</td>\n",
       "    </tr>\n",
       "    <tr>\n",
       "      <th>2</th>\n",
       "      <td>7</td>\n",
       "    </tr>\n",
       "    <tr>\n",
       "      <th>3</th>\n",
       "      <td>7</td>\n",
       "    </tr>\n",
       "    <tr>\n",
       "      <th>4</th>\n",
       "      <td>8</td>\n",
       "    </tr>\n",
       "  </tbody>\n",
       "</table>\n",
       "</div>"
      ],
      "text/plain": [
       "   OverallQual\n",
       "0            7\n",
       "1            6\n",
       "2            7\n",
       "3            7\n",
       "4            8"
      ]
     },
     "metadata": {},
     "output_type": "display_data"
    },
    {
     "data": {
      "text/html": [
       "<div>\n",
       "<style scoped>\n",
       "    .dataframe tbody tr th:only-of-type {\n",
       "        vertical-align: middle;\n",
       "    }\n",
       "\n",
       "    .dataframe tbody tr th {\n",
       "        vertical-align: top;\n",
       "    }\n",
       "\n",
       "    .dataframe thead th {\n",
       "        text-align: right;\n",
       "    }\n",
       "</style>\n",
       "<table border=\"1\" class=\"dataframe\">\n",
       "  <thead>\n",
       "    <tr style=\"text-align: right;\">\n",
       "      <th></th>\n",
       "      <th>0</th>\n",
       "      <th>1</th>\n",
       "      <th>2</th>\n",
       "    </tr>\n",
       "  </thead>\n",
       "  <tbody>\n",
       "    <tr>\n",
       "      <th>0</th>\n",
       "      <td>1.0</td>\n",
       "      <td>7.0</td>\n",
       "      <td>49.0</td>\n",
       "    </tr>\n",
       "    <tr>\n",
       "      <th>1</th>\n",
       "      <td>1.0</td>\n",
       "      <td>6.0</td>\n",
       "      <td>36.0</td>\n",
       "    </tr>\n",
       "    <tr>\n",
       "      <th>2</th>\n",
       "      <td>1.0</td>\n",
       "      <td>7.0</td>\n",
       "      <td>49.0</td>\n",
       "    </tr>\n",
       "    <tr>\n",
       "      <th>3</th>\n",
       "      <td>1.0</td>\n",
       "      <td>7.0</td>\n",
       "      <td>49.0</td>\n",
       "    </tr>\n",
       "    <tr>\n",
       "      <th>4</th>\n",
       "      <td>1.0</td>\n",
       "      <td>8.0</td>\n",
       "      <td>64.0</td>\n",
       "    </tr>\n",
       "  </tbody>\n",
       "</table>\n",
       "</div>"
      ],
      "text/plain": [
       "     0    1     2\n",
       "0  1.0  7.0  49.0\n",
       "1  1.0  6.0  36.0\n",
       "2  1.0  7.0  49.0\n",
       "3  1.0  7.0  49.0\n",
       "4  1.0  8.0  64.0"
      ]
     },
     "metadata": {},
     "output_type": "display_data"
    }
   ],
   "source": [
    "sample = X[['OverallQual']]\n",
    "display(sample.head())\n",
    "\n",
    "\n",
    "poly = PolynomialFeatures(degree = 2)\n",
    "data_sample = poly.fit_transform(sample)\n",
    "display(pd.DataFrame(data_sample).head())"
   ]
  },
  {
   "cell_type": "markdown",
   "metadata": {},
   "source": [
    "For each variable, print out the maximum $R^2$ possible when including Polynomials."
   ]
  },
  {
   "cell_type": "code",
   "execution_count": 85,
   "metadata": {
    "ExecuteTime": {
     "end_time": "2020-09-14T18:43:47.799581Z",
     "start_time": "2020-09-14T18:43:47.785450Z"
    }
   },
   "outputs": [
    {
     "data": {
      "text/html": [
       "<div>\n",
       "<style scoped>\n",
       "    .dataframe tbody tr th:only-of-type {\n",
       "        vertical-align: middle;\n",
       "    }\n",
       "\n",
       "    .dataframe tbody tr th {\n",
       "        vertical-align: top;\n",
       "    }\n",
       "\n",
       "    .dataframe thead th {\n",
       "        text-align: right;\n",
       "    }\n",
       "</style>\n",
       "<table border=\"1\" class=\"dataframe\">\n",
       "  <thead>\n",
       "    <tr style=\"text-align: right;\">\n",
       "      <th></th>\n",
       "      <th>1</th>\n",
       "      <th>2</th>\n",
       "    </tr>\n",
       "    <tr>\n",
       "      <th>0</th>\n",
       "      <th></th>\n",
       "      <th></th>\n",
       "    </tr>\n",
       "  </thead>\n",
       "  <tbody>\n",
       "    <tr>\n",
       "      <th>2ndFlrSF</th>\n",
       "      <td>4</td>\n",
       "      <td>0.775336</td>\n",
       "    </tr>\n",
       "    <tr>\n",
       "      <th>GarageArea</th>\n",
       "      <td>4</td>\n",
       "      <td>0.767336</td>\n",
       "    </tr>\n",
       "    <tr>\n",
       "      <th>GrLivArea</th>\n",
       "      <td>4</td>\n",
       "      <td>0.806763</td>\n",
       "    </tr>\n",
       "    <tr>\n",
       "      <th>OverallCond</th>\n",
       "      <td>4</td>\n",
       "      <td>0.752616</td>\n",
       "    </tr>\n",
       "    <tr>\n",
       "      <th>OverallQual</th>\n",
       "      <td>4</td>\n",
       "      <td>0.780609</td>\n",
       "    </tr>\n",
       "    <tr>\n",
       "      <th>TotRmsAbvGrd</th>\n",
       "      <td>3</td>\n",
       "      <td>0.752538</td>\n",
       "    </tr>\n",
       "  </tbody>\n",
       "</table>\n",
       "</div>"
      ],
      "text/plain": [
       "              1         2\n",
       "0                        \n",
       "2ndFlrSF      4  0.775336\n",
       "GarageArea    4  0.767336\n",
       "GrLivArea     4  0.806763\n",
       "OverallCond   4  0.752616\n",
       "OverallQual   4  0.780609\n",
       "TotRmsAbvGrd  3  0.752538"
      ]
     },
     "execution_count": 85,
     "metadata": {},
     "output_type": "execute_result"
    }
   ],
   "source": [
    "# Your code here\n",
    "polynom = pd.DataFrame(polys)\n",
    "polynom.groupby([0]).max()"
   ]
  },
  {
   "cell_type": "markdown",
   "metadata": {},
   "source": [
    "Which two variables seem to benefit most from adding polynomial terms?"
   ]
  },
  {
   "cell_type": "markdown",
   "metadata": {},
   "source": [
    "Add Polynomials for the two features that seem to benefit the most, as in have the best $R^2$ compared to the baseline model. For each of the two features, raise to the Polynomial that generates the best result. Make sure to start from the data set `df_inter` so the final data set has both interactions and polynomials in the model."
   ]
  },
  {
   "cell_type": "code",
   "execution_count": 93,
   "metadata": {
    "ExecuteTime": {
     "end_time": "2020-09-14T18:47:13.337158Z",
     "start_time": "2020-09-14T18:47:13.319868Z"
    }
   },
   "outputs": [],
   "source": [
    "# Your code here\n",
    "for col in ['GrLivArea', 'OverallQual']:\n",
    "    poly = PolynomialFeatures(degree=4, include_bias=False)\n",
    "    X_transformed = poly.fit_transform(X[[col]])\n",
    "    col_names = [f'{col}_{x}' for x in [1, 2, 3, 4]]\n",
    "    X_transformed = pd.DataFrame(X_transformed, columns=col_names)\n",
    "    \n",
    "    df_inter = pd.concat([df_inter.drop(col, axis=1), X_transformed], axis=1)"
   ]
  },
  {
   "cell_type": "markdown",
   "metadata": {},
   "source": [
    "Check out your final data set and make sure that your interaction terms as well as your polynomial terms are included."
   ]
  },
  {
   "cell_type": "code",
   "execution_count": 94,
   "metadata": {
    "ExecuteTime": {
     "end_time": "2020-09-14T18:47:14.929768Z",
     "start_time": "2020-09-14T18:47:14.901167Z"
    }
   },
   "outputs": [
    {
     "data": {
      "text/html": [
       "<div>\n",
       "<style scoped>\n",
       "    .dataframe tbody tr th:only-of-type {\n",
       "        vertical-align: middle;\n",
       "    }\n",
       "\n",
       "    .dataframe tbody tr th {\n",
       "        vertical-align: top;\n",
       "    }\n",
       "\n",
       "    .dataframe thead th {\n",
       "        text-align: right;\n",
       "    }\n",
       "</style>\n",
       "<table border=\"1\" class=\"dataframe\">\n",
       "  <thead>\n",
       "    <tr style=\"text-align: right;\">\n",
       "      <th></th>\n",
       "      <th>LotArea</th>\n",
       "      <th>OverallCond</th>\n",
       "      <th>TotalBsmtSF</th>\n",
       "      <th>1stFlrSF</th>\n",
       "      <th>2ndFlrSF</th>\n",
       "      <th>TotRmsAbvGrd</th>\n",
       "      <th>GarageArea</th>\n",
       "      <th>Fireplaces</th>\n",
       "      <th>OverallQual_TotRmsAbvGrd</th>\n",
       "      <th>OverallQual_GarageArea</th>\n",
       "      <th>...</th>\n",
       "      <th>OverallQual_Fireplaces</th>\n",
       "      <th>OverallCond_TotalBsmtSF</th>\n",
       "      <th>GrLivArea_1</th>\n",
       "      <th>GrLivArea_2</th>\n",
       "      <th>GrLivArea_3</th>\n",
       "      <th>GrLivArea_4</th>\n",
       "      <th>OverallQual_1</th>\n",
       "      <th>OverallQual_2</th>\n",
       "      <th>OverallQual_3</th>\n",
       "      <th>OverallQual_4</th>\n",
       "    </tr>\n",
       "  </thead>\n",
       "  <tbody>\n",
       "    <tr>\n",
       "      <th>1450</th>\n",
       "      <td>-0.152020</td>\n",
       "      <td>-0.517200</td>\n",
       "      <td>-0.368094</td>\n",
       "      <td>-0.689929</td>\n",
       "      <td>1.258098</td>\n",
       "      <td>0.912210</td>\n",
       "      <td>-2.212963</td>\n",
       "      <td>-0.951226</td>\n",
       "      <td>-0.725345</td>\n",
       "      <td>1.759641</td>\n",
       "      <td>...</td>\n",
       "      <td>0.756369</td>\n",
       "      <td>0.190378</td>\n",
       "      <td>1792.0</td>\n",
       "      <td>3211264.0</td>\n",
       "      <td>5.754585e+09</td>\n",
       "      <td>1.031222e+13</td>\n",
       "      <td>5.0</td>\n",
       "      <td>25.0</td>\n",
       "      <td>125.0</td>\n",
       "      <td>625.0</td>\n",
       "    </tr>\n",
       "    <tr>\n",
       "      <th>1451</th>\n",
       "      <td>-0.125761</td>\n",
       "      <td>-0.517200</td>\n",
       "      <td>1.175612</td>\n",
       "      <td>1.074829</td>\n",
       "      <td>-0.795163</td>\n",
       "      <td>0.296763</td>\n",
       "      <td>1.717200</td>\n",
       "      <td>0.600495</td>\n",
       "      <td>0.407989</td>\n",
       "      <td>2.360797</td>\n",
       "      <td>...</td>\n",
       "      <td>0.825557</td>\n",
       "      <td>-0.608026</td>\n",
       "      <td>1578.0</td>\n",
       "      <td>2490084.0</td>\n",
       "      <td>3.929353e+09</td>\n",
       "      <td>6.200518e+12</td>\n",
       "      <td>8.0</td>\n",
       "      <td>64.0</td>\n",
       "      <td>512.0</td>\n",
       "      <td>4096.0</td>\n",
       "    </tr>\n",
       "    <tr>\n",
       "      <th>1452</th>\n",
       "      <td>-0.685702</td>\n",
       "      <td>-0.517200</td>\n",
       "      <td>-1.163889</td>\n",
       "      <td>-0.234508</td>\n",
       "      <td>-0.795163</td>\n",
       "      <td>-0.934130</td>\n",
       "      <td>0.243389</td>\n",
       "      <td>-0.951226</td>\n",
       "      <td>0.742775</td>\n",
       "      <td>-0.193531</td>\n",
       "      <td>...</td>\n",
       "      <td>0.756369</td>\n",
       "      <td>0.601963</td>\n",
       "      <td>1072.0</td>\n",
       "      <td>1149184.0</td>\n",
       "      <td>1.231925e+09</td>\n",
       "      <td>1.320624e+12</td>\n",
       "      <td>5.0</td>\n",
       "      <td>25.0</td>\n",
       "      <td>125.0</td>\n",
       "      <td>625.0</td>\n",
       "    </tr>\n",
       "    <tr>\n",
       "      <th>1453</th>\n",
       "      <td>0.671505</td>\n",
       "      <td>-0.517200</td>\n",
       "      <td>0.188279</td>\n",
       "      <td>-0.058549</td>\n",
       "      <td>-0.795163</td>\n",
       "      <td>-0.318683</td>\n",
       "      <td>-2.212963</td>\n",
       "      <td>-0.951226</td>\n",
       "      <td>0.253401</td>\n",
       "      <td>1.759641</td>\n",
       "      <td>...</td>\n",
       "      <td>0.756369</td>\n",
       "      <td>-0.097378</td>\n",
       "      <td>1140.0</td>\n",
       "      <td>1299600.0</td>\n",
       "      <td>1.481544e+09</td>\n",
       "      <td>1.688960e+12</td>\n",
       "      <td>5.0</td>\n",
       "      <td>25.0</td>\n",
       "      <td>125.0</td>\n",
       "      <td>625.0</td>\n",
       "    </tr>\n",
       "    <tr>\n",
       "      <th>1454</th>\n",
       "      <td>-0.302353</td>\n",
       "      <td>-0.517200</td>\n",
       "      <td>0.372976</td>\n",
       "      <td>0.151048</td>\n",
       "      <td>-0.795163</td>\n",
       "      <td>-0.318683</td>\n",
       "      <td>-0.341457</td>\n",
       "      <td>-0.951226</td>\n",
       "      <td>-0.207616</td>\n",
       "      <td>-0.222452</td>\n",
       "      <td>...</td>\n",
       "      <td>-0.619704</td>\n",
       "      <td>-0.192903</td>\n",
       "      <td>1221.0</td>\n",
       "      <td>1490841.0</td>\n",
       "      <td>1.820317e+09</td>\n",
       "      <td>2.222607e+12</td>\n",
       "      <td>7.0</td>\n",
       "      <td>49.0</td>\n",
       "      <td>343.0</td>\n",
       "      <td>2401.0</td>\n",
       "    </tr>\n",
       "    <tr>\n",
       "      <th>1455</th>\n",
       "      <td>-0.260560</td>\n",
       "      <td>-0.517200</td>\n",
       "      <td>-0.238122</td>\n",
       "      <td>-0.542435</td>\n",
       "      <td>0.795198</td>\n",
       "      <td>0.296763</td>\n",
       "      <td>-0.060731</td>\n",
       "      <td>0.600495</td>\n",
       "      <td>-0.021318</td>\n",
       "      <td>0.004363</td>\n",
       "      <td>...</td>\n",
       "      <td>-0.043137</td>\n",
       "      <td>0.123156</td>\n",
       "      <td>1647.0</td>\n",
       "      <td>2712609.0</td>\n",
       "      <td>4.467667e+09</td>\n",
       "      <td>7.358248e+12</td>\n",
       "      <td>6.0</td>\n",
       "      <td>36.0</td>\n",
       "      <td>216.0</td>\n",
       "      <td>1296.0</td>\n",
       "    </tr>\n",
       "    <tr>\n",
       "      <th>1456</th>\n",
       "      <td>0.266407</td>\n",
       "      <td>0.381743</td>\n",
       "      <td>1.104925</td>\n",
       "      <td>2.355701</td>\n",
       "      <td>-0.795163</td>\n",
       "      <td>0.296763</td>\n",
       "      <td>0.126420</td>\n",
       "      <td>2.152216</td>\n",
       "      <td>-0.021318</td>\n",
       "      <td>-0.009081</td>\n",
       "      <td>...</td>\n",
       "      <td>-0.154607</td>\n",
       "      <td>0.421797</td>\n",
       "      <td>2073.0</td>\n",
       "      <td>4297329.0</td>\n",
       "      <td>8.908363e+09</td>\n",
       "      <td>1.846704e+13</td>\n",
       "      <td>6.0</td>\n",
       "      <td>36.0</td>\n",
       "      <td>216.0</td>\n",
       "      <td>1296.0</td>\n",
       "    </tr>\n",
       "    <tr>\n",
       "      <th>1457</th>\n",
       "      <td>-0.147810</td>\n",
       "      <td>3.078570</td>\n",
       "      <td>0.215641</td>\n",
       "      <td>0.065656</td>\n",
       "      <td>1.844744</td>\n",
       "      <td>1.527656</td>\n",
       "      <td>-1.033914</td>\n",
       "      <td>2.152216</td>\n",
       "      <td>0.995236</td>\n",
       "      <td>-0.673574</td>\n",
       "      <td>...</td>\n",
       "      <td>1.402124</td>\n",
       "      <td>0.663867</td>\n",
       "      <td>2340.0</td>\n",
       "      <td>5475600.0</td>\n",
       "      <td>1.281290e+10</td>\n",
       "      <td>2.998220e+13</td>\n",
       "      <td>7.0</td>\n",
       "      <td>49.0</td>\n",
       "      <td>343.0</td>\n",
       "      <td>2401.0</td>\n",
       "    </tr>\n",
       "    <tr>\n",
       "      <th>1458</th>\n",
       "      <td>-0.080160</td>\n",
       "      <td>0.381743</td>\n",
       "      <td>0.046905</td>\n",
       "      <td>-0.218982</td>\n",
       "      <td>-0.795163</td>\n",
       "      <td>-0.934130</td>\n",
       "      <td>-1.090059</td>\n",
       "      <td>-0.951226</td>\n",
       "      <td>0.742775</td>\n",
       "      <td>0.866762</td>\n",
       "      <td>...</td>\n",
       "      <td>0.756369</td>\n",
       "      <td>0.017906</td>\n",
       "      <td>1078.0</td>\n",
       "      <td>1162084.0</td>\n",
       "      <td>1.252727e+09</td>\n",
       "      <td>1.350439e+12</td>\n",
       "      <td>5.0</td>\n",
       "      <td>25.0</td>\n",
       "      <td>125.0</td>\n",
       "      <td>625.0</td>\n",
       "    </tr>\n",
       "    <tr>\n",
       "      <th>1459</th>\n",
       "      <td>-0.058112</td>\n",
       "      <td>0.381743</td>\n",
       "      <td>0.452784</td>\n",
       "      <td>0.241615</td>\n",
       "      <td>-0.795163</td>\n",
       "      <td>-0.318683</td>\n",
       "      <td>-0.921624</td>\n",
       "      <td>-0.951226</td>\n",
       "      <td>0.253401</td>\n",
       "      <td>0.732831</td>\n",
       "      <td>...</td>\n",
       "      <td>0.756369</td>\n",
       "      <td>0.172847</td>\n",
       "      <td>1256.0</td>\n",
       "      <td>1577536.0</td>\n",
       "      <td>1.981385e+09</td>\n",
       "      <td>2.488620e+12</td>\n",
       "      <td>5.0</td>\n",
       "      <td>25.0</td>\n",
       "      <td>125.0</td>\n",
       "      <td>625.0</td>\n",
       "    </tr>\n",
       "  </tbody>\n",
       "</table>\n",
       "<p>10 rows × 23 columns</p>\n",
       "</div>"
      ],
      "text/plain": [
       "       LotArea  OverallCond  TotalBsmtSF  1stFlrSF  2ndFlrSF  TotRmsAbvGrd  \\\n",
       "1450 -0.152020    -0.517200    -0.368094 -0.689929  1.258098      0.912210   \n",
       "1451 -0.125761    -0.517200     1.175612  1.074829 -0.795163      0.296763   \n",
       "1452 -0.685702    -0.517200    -1.163889 -0.234508 -0.795163     -0.934130   \n",
       "1453  0.671505    -0.517200     0.188279 -0.058549 -0.795163     -0.318683   \n",
       "1454 -0.302353    -0.517200     0.372976  0.151048 -0.795163     -0.318683   \n",
       "1455 -0.260560    -0.517200    -0.238122 -0.542435  0.795198      0.296763   \n",
       "1456  0.266407     0.381743     1.104925  2.355701 -0.795163      0.296763   \n",
       "1457 -0.147810     3.078570     0.215641  0.065656  1.844744      1.527656   \n",
       "1458 -0.080160     0.381743     0.046905 -0.218982 -0.795163     -0.934130   \n",
       "1459 -0.058112     0.381743     0.452784  0.241615 -0.795163     -0.318683   \n",
       "\n",
       "      GarageArea  Fireplaces  OverallQual_TotRmsAbvGrd  \\\n",
       "1450   -2.212963   -0.951226                 -0.725345   \n",
       "1451    1.717200    0.600495                  0.407989   \n",
       "1452    0.243389   -0.951226                  0.742775   \n",
       "1453   -2.212963   -0.951226                  0.253401   \n",
       "1454   -0.341457   -0.951226                 -0.207616   \n",
       "1455   -0.060731    0.600495                 -0.021318   \n",
       "1456    0.126420    2.152216                 -0.021318   \n",
       "1457   -1.033914    2.152216                  0.995236   \n",
       "1458   -1.090059   -0.951226                  0.742775   \n",
       "1459   -0.921624   -0.951226                  0.253401   \n",
       "\n",
       "      OverallQual_GarageArea  ...  OverallQual_Fireplaces  \\\n",
       "1450                1.759641  ...                0.756369   \n",
       "1451                2.360797  ...                0.825557   \n",
       "1452               -0.193531  ...                0.756369   \n",
       "1453                1.759641  ...                0.756369   \n",
       "1454               -0.222452  ...               -0.619704   \n",
       "1455                0.004363  ...               -0.043137   \n",
       "1456               -0.009081  ...               -0.154607   \n",
       "1457               -0.673574  ...                1.402124   \n",
       "1458                0.866762  ...                0.756369   \n",
       "1459                0.732831  ...                0.756369   \n",
       "\n",
       "      OverallCond_TotalBsmtSF  GrLivArea_1  GrLivArea_2   GrLivArea_3  \\\n",
       "1450                 0.190378       1792.0    3211264.0  5.754585e+09   \n",
       "1451                -0.608026       1578.0    2490084.0  3.929353e+09   \n",
       "1452                 0.601963       1072.0    1149184.0  1.231925e+09   \n",
       "1453                -0.097378       1140.0    1299600.0  1.481544e+09   \n",
       "1454                -0.192903       1221.0    1490841.0  1.820317e+09   \n",
       "1455                 0.123156       1647.0    2712609.0  4.467667e+09   \n",
       "1456                 0.421797       2073.0    4297329.0  8.908363e+09   \n",
       "1457                 0.663867       2340.0    5475600.0  1.281290e+10   \n",
       "1458                 0.017906       1078.0    1162084.0  1.252727e+09   \n",
       "1459                 0.172847       1256.0    1577536.0  1.981385e+09   \n",
       "\n",
       "       GrLivArea_4  OverallQual_1  OverallQual_2  OverallQual_3  OverallQual_4  \n",
       "1450  1.031222e+13            5.0           25.0          125.0          625.0  \n",
       "1451  6.200518e+12            8.0           64.0          512.0         4096.0  \n",
       "1452  1.320624e+12            5.0           25.0          125.0          625.0  \n",
       "1453  1.688960e+12            5.0           25.0          125.0          625.0  \n",
       "1454  2.222607e+12            7.0           49.0          343.0         2401.0  \n",
       "1455  7.358248e+12            6.0           36.0          216.0         1296.0  \n",
       "1456  1.846704e+13            6.0           36.0          216.0         1296.0  \n",
       "1457  2.998220e+13            7.0           49.0          343.0         2401.0  \n",
       "1458  1.350439e+12            5.0           25.0          125.0          625.0  \n",
       "1459  2.488620e+12            5.0           25.0          125.0          625.0  \n",
       "\n",
       "[10 rows x 23 columns]"
      ]
     },
     "execution_count": 94,
     "metadata": {},
     "output_type": "execute_result"
    }
   ],
   "source": [
    "# Your code here\n",
    "df_inter.iloc[-10:, :]\n"
   ]
  },
  {
   "cell_type": "markdown",
   "metadata": {},
   "source": [
    "## Full model R-squared"
   ]
  },
  {
   "cell_type": "markdown",
   "metadata": {},
   "source": [
    "Check out the $R^2$ of the full model."
   ]
  },
  {
   "cell_type": "code",
   "execution_count": 95,
   "metadata": {
    "ExecuteTime": {
     "end_time": "2020-09-14T18:47:20.636146Z",
     "start_time": "2020-09-14T18:47:20.573979Z"
    }
   },
   "outputs": [
    {
     "data": {
      "text/plain": [
       "0.824486453667997"
      ]
     },
     "execution_count": 95,
     "metadata": {},
     "output_type": "execute_result"
    }
   ],
   "source": [
    "# Your code here\n",
    "full_model = np.mean(cross_val_score(regression, df_inter, y, scoring='r2', cv=crossvalidation))\n",
    "full_model"
   ]
  },
  {
   "cell_type": "markdown",
   "metadata": {},
   "source": [
    "## Find the best Lasso regularization parameter"
   ]
  },
  {
   "cell_type": "markdown",
   "metadata": {},
   "source": [
    "You learned that when using Lasso regularization, your coefficients shrink to 0 when using a higher regularization parameter. Now the question is which value we should choose for the regularization parameter. \n",
    "\n",
    "This is where the AIC and BIC come in handy! We'll use both criteria in what follows and perform cross-validation to select an optimal value of the regularization parameter $alpha$ of the Lasso estimator.\n",
    "\n",
    "Read the page here: https://scikit-learn.org/stable/auto_examples/linear_model/plot_lasso_model_selection.html and create a similar plot as the first one listed on the page. "
   ]
  },
  {
   "cell_type": "code",
   "execution_count": 97,
   "metadata": {
    "ExecuteTime": {
     "end_time": "2020-09-14T18:54:40.250225Z",
     "start_time": "2020-09-14T18:54:40.247026Z"
    }
   },
   "outputs": [],
   "source": [
    "from sklearn.linear_model import Lasso, LassoCV, LassoLarsCV, LassoLarsIC"
   ]
  },
  {
   "cell_type": "code",
   "execution_count": 103,
   "metadata": {
    "ExecuteTime": {
     "end_time": "2020-09-14T19:04:20.162333Z",
     "start_time": "2020-09-14T19:04:20.131125Z"
    }
   },
   "outputs": [
    {
     "name": "stdout",
     "output_type": "stream",
     "text": [
      "23.83416203839783 13.020006097798039\n"
     ]
    }
   ],
   "source": [
    "# Your code here \n",
    "model_bic = LassoLarsIC(criterion='bic')\n",
    "model_bic.fit(df_inter, y)\n",
    "alpha_bic_ = model_bic.alpha_\n",
    "\n",
    "model_aic = LassoLarsIC(criterion='aic')\n",
    "model_aic.fit(df_inter, y)\n",
    "alpha_aic_ = model_aic.alpha_\n",
    "\n",
    "print(alpha_bic_, alpha_aic_)"
   ]
  },
  {
   "cell_type": "code",
   "execution_count": 105,
   "metadata": {
    "ExecuteTime": {
     "end_time": "2020-09-14T19:04:33.432106Z",
     "start_time": "2020-09-14T19:04:33.426550Z"
    }
   },
   "outputs": [
    {
     "data": {
      "text/plain": [
       "array([1460.        ,  883.13577995,  548.10097416,  525.77890392,\n",
       "        443.77944313,  428.74698751,  377.76648746,  350.39171544,\n",
       "        339.79265184,  332.03174445,  325.62560597,  300.36984813,\n",
       "        287.56935109,  279.89970787,  262.82395819,  254.90480418,\n",
       "        256.31342369,  255.84285837,  251.77425169,  253.04001664,\n",
       "        253.59144725,  253.06158115,  254.66870861,  252.48241969,\n",
       "        252.22862801,  251.91792914,  253.63368627,  253.11564062,\n",
       "        252.76012533,  253.82170829,  252.82978087,  252.61220169,\n",
       "        252.51599439,  253.87692933])"
      ]
     },
     "execution_count": 105,
     "metadata": {},
     "output_type": "execute_result"
    }
   ],
   "source": [
    "model_aic.criterion_"
   ]
  },
  {
   "cell_type": "code",
   "execution_count": 108,
   "metadata": {
    "ExecuteTime": {
     "end_time": "2020-09-14T19:05:09.813096Z",
     "start_time": "2020-09-14T19:05:09.550700Z"
    }
   },
   "outputs": [
    {
     "data": {
      "image/png": "[encoded data removed]",
      "text/plain": [
       "<Figure size 432x288 with 1 Axes>"
      ]
     },
     "metadata": {
      "needs_background": "light"
     },
     "output_type": "display_data"
    }
   ],
   "source": [
    "def plot_ic_criterion(model, name, color):\n",
    "    alpha_ = model.alpha_\n",
    "    alphas_ = model.alphas_\n",
    "    \n",
    "    criterion = model.criterion_\n",
    "    \n",
    "    plt.plot(-np.log10(alphas_), criterion, '--', color=color, label=name)\n",
    "    plt.axvline(-np.log10(alpha_), color=color, label=f'alpha for {name}')\n",
    "    plt.xlabel('-log(alpha)')\n",
    "    plt.ylabel('criterion')\n",
    "\n",
    "plt.figure()\n",
    "plot_ic_criterion(model_aic, \"AIC\", 'green');\n",
    "plot_ic_criterion(model_bic, \"BIC\", 'blue');\n",
    "plt.legend()\n",
    "plt.title('Information-criterion for model selection');"
   ]
  },
  {
   "cell_type": "markdown",
   "metadata": {},
   "source": [
    "## Analyze the final result\n",
    "\n",
    "Finally, use the best value for the regularization parameter according to AIC and BIC, and compare $R^2$ and RMSE using train-test split. Compare with the baseline model.\n",
    "\n",
    "Remember, you can find the Root Mean Squared Error (RMSE) by setting `squared=False` inside the function (see [the documentation](https://scikit-learn.org/stable/modules/generated/sklearn.metrics.mean_squared_error.html)), and the RMSE returns values that are in the same units as our target - so we can see how far off our predicted sale prices are in dollars."
   ]
  },
  {
   "cell_type": "code",
   "execution_count": 110,
   "metadata": {
    "ExecuteTime": {
     "end_time": "2020-09-14T19:07:22.317602Z",
     "start_time": "2020-09-14T19:07:22.314008Z"
    }
   },
   "outputs": [],
   "source": [
    "from sklearn.metrics import mean_squared_error, mean_squared_log_error\n",
    "from sklearn.model_selection import train_test_split"
   ]
  },
  {
   "cell_type": "code",
   "execution_count": 115,
   "metadata": {
    "ExecuteTime": {
     "end_time": "2020-09-14T19:17:54.705685Z",
     "start_time": "2020-09-14T19:17:54.680560Z"
    }
   },
   "outputs": [
    {
     "name": "stdout",
     "output_type": "stream",
     "text": [
      "Training R-squared:  0.7478270652928448\n",
      "Test R-squared:  0.8120708166668685\n",
      "Training RMSE:  39424.15590381302\n",
      "Training RMSE:  35519.17035590486\n"
     ]
    }
   ],
   "source": [
    "# Split X_scaled and y into training and test sets\n",
    "# Set random_state to 1\n",
    "X_train, X_test, y_train, y_test = train_test_split(X_scaled, y, random_state=1)\n",
    "\n",
    "# Code for baseline model\n",
    "linreg_all = LinearRegression()\n",
    "linreg_all.fit(X_train, y_train)\n",
    "\n",
    "\n",
    "# Print R-Squared and RMSE\n",
    "print('Training R-squared: ',linreg_all.score(X_train,y_train))\n",
    "print('Test R-squared: ',linreg_all.score(X_test,y_test))\n",
    "print('Training RMSE: ', np.sqrt(mean_squared_error(y_train, linreg_all.predict(X_train))))\n",
    "print('Training RMSE: ', np.sqrt(mean_squared_error(y_test, linreg_all.predict(X_test))))"
   ]
  },
  {
   "cell_type": "code",
   "execution_count": 117,
   "metadata": {
    "ExecuteTime": {
     "end_time": "2020-09-14T19:19:46.439437Z",
     "start_time": "2020-09-14T19:19:46.404366Z"
    }
   },
   "outputs": [
    {
     "name": "stdout",
     "output_type": "stream",
     "text": [
      "Training R-squared:  0.844627984291774\n",
      "Test R-squared:  0.8652911319398865\n",
      "Training RMSE:  30945.64700693861\n",
      "Training RMSE:  30072.102521645993\n"
     ]
    }
   ],
   "source": [
    "# Split df_inter and y into training and test sets\n",
    "# Set random_state to 1\n",
    "X_train, X_test, y_train, y_test = train_test_split(df_inter, y, random_state=1)\n",
    "\n",
    "# Code for baseline model\n",
    "lasso = Lasso(alpha=model_aic.alpha_)\n",
    "lasso.fit(X_train, y_train)\n",
    "\n",
    "\n",
    "# Print R-Squared and RMSE\n",
    "print('Training R-squared: ',lasso.score(X_train,y_train))\n",
    "print('Test R-squared: ',lasso.score(X_test,y_test))\n",
    "print('Training RMSE: ', np.sqrt(mean_squared_error(y_train, lasso.predict(X_train))))\n",
    "print('Training RMSE: ', np.sqrt(mean_squared_error(y_test, lasso.predict(X_test))))"
   ]
  },
  {
   "cell_type": "code",
   "execution_count": 118,
   "metadata": {
    "ExecuteTime": {
     "end_time": "2020-09-14T19:19:57.907639Z",
     "start_time": "2020-09-14T19:19:57.871763Z"
    }
   },
   "outputs": [
    {
     "name": "stdout",
     "output_type": "stream",
     "text": [
      "Training R-squared:  0.8445787691496337\n",
      "Test R-squared:  0.8652044612090601\n",
      "Training RMSE:  30950.54774090771\n",
      "Training RMSE:  30081.77505488453\n"
     ]
    }
   ],
   "source": [
    "# Split df_inter and y into training and test sets\n",
    "# Set random_state to 1\n",
    "X_train, X_test, y_train, y_test = train_test_split(df_inter, y, random_state=1)\n",
    "\n",
    "# Code for baseline model\n",
    "lasso = Lasso(alpha=model_bic.alpha_)\n",
    "lasso.fit(X_train, y_train)\n",
    "\n",
    "\n",
    "# Print R-Squared and RMSE\n",
    "print('Training R-squared: ',lasso.score(X_train,y_train))\n",
    "print('Test R-squared: ',lasso.score(X_test,y_test))\n",
    "print('Training RMSE: ', np.sqrt(mean_squared_error(y_train, lasso.predict(X_train))))\n",
    "print('Training RMSE: ', np.sqrt(mean_squared_error(y_test, lasso.predict(X_test))))"
   ]
  },
  {
   "cell_type": "markdown",
   "metadata": {},
   "source": [
    "## Level up (Optional)"
   ]
  },
  {
   "cell_type": "markdown",
   "metadata": {},
   "source": [
    "### Create a Lasso path\n",
    "\n",
    "From this section, you know that when using Lasso, more parameters shrink to zero as your regularization parameter goes up. In Scikit-learn there is a function `lasso_path()` which visualizes the shrinkage of the coefficients while $alpha$ changes. Try this out yourself!\n",
    "\n",
    "https://scikit-learn.org/stable/auto_examples/linear_model/plot_lasso_coordinate_descent_path.html#sphx-glr-auto-examples-linear-model-plot-lasso-coordinate-descent-path-py"
   ]
  },
  {
   "cell_type": "markdown",
   "metadata": {},
   "source": [
    "### AIC and BIC for subset selection\n",
    "This notebook shows how you can use AIC and BIC purely for feature selection. Try this code out on our Ames housing data!"
   ]
  },
  {
   "cell_type": "markdown",
   "metadata": {},
   "source": [
    "https://xavierbourretsicotte.github.io/subset_selection.html"
   ]
  },
  {
   "cell_type": "markdown",
   "metadata": {},
   "source": [
    "## Summary"
   ]
  },
  {
   "cell_type": "markdown",
   "metadata": {},
   "source": [
    "Congratulations! You now know how to create better linear models and how to use AIC and BIC for both feature selection and to optimize your regularization parameter when performing Ridge and Lasso. "
   ]
  }
 ],
 "metadata": {
  "kernelspec": {
   "display_name": "Python [conda env:learn-env] *",
   "language": "python",
   "name": "conda-env-learn-env-py"
  },
  "language_info": {
   "codemirror_mode": {
    "name": "ipython",
    "version": 3
   },
   "file_extension": ".py",
   "mimetype": "text/x-python",
   "name": "python",
   "nbconvert_exporter": "python",
   "pygments_lexer": "ipython3",
   "version": "3.6.9"
  },
  "varInspector": {
   "cols": {
    "lenName": 16,
    "lenType": 16,
    "lenVar": 40
   },
   "kernels_config": {
    "python": {
     "delete_cmd_postfix": "",
     "delete_cmd_prefix": "del ",
     "library": "var_list.py",
     "varRefreshCmd": "print(var_dic_list())"
    },
    "r": {
     "delete_cmd_postfix": ") ",
     "delete_cmd_prefix": "rm(",
     "library": "var_list.r",
     "varRefreshCmd": "cat(var_dic_list()) "
    }
   },
   "types_to_exclude": [
    "module",
    "function",
    "builtin_function_or_method",
    "instance",
    "_Feature"
   ],
   "window_display": false
  }
 },
 "nbformat": 4,
 "nbformat_minor": 2
}
